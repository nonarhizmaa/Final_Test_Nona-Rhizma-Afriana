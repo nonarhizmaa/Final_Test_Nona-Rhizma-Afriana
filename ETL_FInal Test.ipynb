{
  "nbformat": 4,
  "nbformat_minor": 0,
  "metadata": {
    "colab": {
      "provenance": []
    },
    "kernelspec": {
      "name": "python3",
      "display_name": "Python 3"
    },
    "language_info": {
      "name": "python"
    }
  },
  "cells": [
    {
      "cell_type": "code",
      "execution_count": 21,
      "metadata": {
        "colab": {
          "base_uri": "https://localhost:8080/"
        },
        "id": "wB6VypPcS54T",
        "outputId": "ea8316ce-a666-4590-d4eb-45ce83c295e1"
      },
      "outputs": [
        {
          "output_type": "stream",
          "name": "stdout",
          "text": [
            "Requirement already satisfied: requests in /usr/local/lib/python3.10/dist-packages (2.31.0)\n",
            "Requirement already satisfied: pandas in /usr/local/lib/python3.10/dist-packages (1.5.3)\n",
            "Requirement already satisfied: charset-normalizer<4,>=2 in /usr/local/lib/python3.10/dist-packages (from requests) (3.3.2)\n",
            "Requirement already satisfied: idna<4,>=2.5 in /usr/local/lib/python3.10/dist-packages (from requests) (3.4)\n",
            "Requirement already satisfied: urllib3<3,>=1.21.1 in /usr/local/lib/python3.10/dist-packages (from requests) (2.0.7)\n",
            "Requirement already satisfied: certifi>=2017.4.17 in /usr/local/lib/python3.10/dist-packages (from requests) (2023.7.22)\n",
            "Requirement already satisfied: python-dateutil>=2.8.1 in /usr/local/lib/python3.10/dist-packages (from pandas) (2.8.2)\n",
            "Requirement already satisfied: pytz>=2020.1 in /usr/local/lib/python3.10/dist-packages (from pandas) (2023.3.post1)\n",
            "Requirement already satisfied: numpy>=1.21.0 in /usr/local/lib/python3.10/dist-packages (from pandas) (1.23.5)\n",
            "Requirement already satisfied: six>=1.5 in /usr/local/lib/python3.10/dist-packages (from python-dateutil>=2.8.1->pandas) (1.16.0)\n"
          ]
        }
      ],
      "source": [
        "pip install requests pandas"
      ]
    },
    {
      "cell_type": "code",
      "source": [
        "import requests\n",
        "import pandas as pd\n",
        "\n",
        "# 1. Membuat API request untuk mendapatkan data return API dalam bentuk JSON\n",
        "api_url = \"https://berita-indo-api-next.vercel.app/api/cnn-news/teknologi\"\n",
        "response = requests.get(api_url)\n",
        "data = response.json()\n",
        "\n",
        "# 2. Mengambil value dari key 'data' dalam JSON dan mengubahnya menjadi DataFrame\n",
        "if 'data' in data:\n",
        "    news_data = data['data']\n",
        "    df = pd.DataFrame(news_data)\n",
        "\n",
        "    # 3. Transformasi kolom 'isoDate' menjadi tipe data datetime\n",
        "    df['isoDate'] = pd.to_datetime(df['isoDate'])\n",
        "\n",
        "\n",
        "    df = df.rename(columns={'title': 'Judul', 'link': 'Tautan', 'contentSnippet': 'Kutipan Konten', 'isoDate': 'Tanggal'})\n",
        "\n",
        "\n",
        "    pd.set_option('display.max_columns', None)\n",
        "    pd.set_option('display.width', 1000)\n",
        "    print(\"DataFrame setelah transformasi:\")\n",
        "    print(df)\n",
        "\n"
      ],
      "metadata": {
        "id": "8X6xZ7SJYcd6"
      },
      "execution_count": null,
      "outputs": []
    }
  ]
}